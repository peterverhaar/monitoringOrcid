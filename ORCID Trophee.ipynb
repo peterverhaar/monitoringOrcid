{
 "cells": [
  {
   "cell_type": "code",
   "execution_count": 1,
   "metadata": {},
   "outputs": [],
   "source": [
    "import pandas as pd\n",
    "\n",
    "data = pd.read_csv( 'Nationale ORCiD_NL Monitor.csv' )\n",
    "data = data[ data['Selecteer je Universiteit'] != 'UMCU - Universitair Medisch Centrum Utrecht' ]\n",
    "\n",
    "## Unique organisations\n",
    "organisations = data['Selecteer je Universiteit'].unique()\n",
    "\n",
    "def sortedByValue( dict ):      \n",
    "    return sorted( dict , key=lambda x: dict[x]) \n",
    "\n"
   ]
  },
  {
   "cell_type": "markdown",
   "metadata": {},
   "source": [
    "# Ambitionist\n",
    "\n",
    "De 'Ambitionist' is de prijs voor het hoogste aantal geregistreerde ORCIDS in het CRIS. Alle universiteiten hebben vooraf een bepaald ambitieniveau gedefinieerd, en de 'ambitionist' is de universiteit die deze ambitie het beste heeft weten te realiseren. \n",
    "\n",
    "De scores in deze categorie zijn berekend door de kijken naar de cijfers van het meest recente meetmoment, en door het aantal geregistreerde ORCID IDs te delen door het totaal aantal actieve onderzoekers. Dit cijfer geeft een indicatie van de total ORCID-uptake. Hoeveel procent van de onderzoekers heeft een ORCID ingevuld in het CRIS? "
   ]
  },
  {
   "cell_type": "code",
   "execution_count": 2,
   "metadata": {},
   "outputs": [
    {
     "name": "stdout",
     "output_type": "stream",
     "text": [
      "VU - Vrije Universiteit Amsterdam\n",
      "Stand van zaken op 2020-10-15:\n",
      "Aantal ORCID registraties: 1384\n",
      "Aantal actieve onderzoekers: 2936\n",
      "De score komt daarmee op 0.4713896457765668.\n",
      "\n",
      "TU - Tilburg University\n",
      "Stand van zaken op 2019-12-11:\n",
      "Aantal ORCID registraties: 325\n",
      "Aantal actieve onderzoekers: 2102\n",
      "De score komt daarmee op 0.15461465271170313.\n",
      "\n",
      "TUD - Delft University of Technology\n",
      "Stand van zaken op 2020-10-06:\n",
      "Aantal ORCID registraties: 2802\n",
      "Aantal actieve onderzoekers: 6646\n",
      "De score komt daarmee op 0.42160698164309357.\n",
      "\n",
      "WUR - Wageningen University & Research\n",
      "Stand van zaken op 2020-10-13:\n",
      "Aantal ORCID registraties: 1033\n",
      "Aantal actieve onderzoekers: 2004\n",
      "De score komt daarmee op 0.5154690618762475.\n",
      "\n",
      "UM - Universiteit Maastricht\n",
      "Stand van zaken op 2020-10-14:\n",
      "Aantal ORCID registraties: 1228\n",
      "Aantal actieve onderzoekers: 5230\n",
      "De score komt daarmee op 0.23479923518164436.\n",
      "\n",
      "UT - University of Twente\n",
      "Stand van zaken op 2020-10-12:\n",
      "Aantal ORCID registraties: 595\n",
      "Aantal actieve onderzoekers: 3241\n",
      "De score komt daarmee op 0.183585313174946.\n",
      "\n",
      "UvA - Universiteit van Amsterdam\n",
      "Stand van zaken op 2020-10-15:\n",
      "Aantal ORCID registraties: 424\n",
      "Aantal actieve onderzoekers: 6590\n",
      "De score komt daarmee op 0.06433990895295903.\n",
      "\n",
      "KNAW - Koninklijke Nederlandse Academie der Wetenschappen\n",
      "Stand van zaken op 2020-06-23:\n",
      "Aantal ORCID registraties: 144\n",
      "Aantal actieve onderzoekers: 1065\n",
      "De score komt daarmee op 0.1352112676056338.\n",
      "\n",
      "UL - Universiteit Leiden\n",
      "Stand van zaken op 2020-09-01:\n",
      "Aantal ORCID registraties: 2273\n",
      "Aantal actieve onderzoekers: 2654\n",
      "De score komt daarmee op 0.8564431047475509.\n",
      "\n",
      "UU - Universiteit Utrecht\n",
      "Stand van zaken op 2020-10-14:\n",
      "Aantal ORCID registraties: 340\n",
      "Aantal actieve onderzoekers: 6796\n",
      "De score komt daarmee op 0.050029429075927015.\n",
      "\n",
      "TUE - Technische Universiteit Eindhoven\n",
      "Stand van zaken op 2020-10-15:\n",
      "Aantal ORCID registraties: 1019\n",
      "Aantal actieve onderzoekers: 2608\n",
      "De score komt daarmee op 0.3907208588957055.\n",
      "\n",
      "TiU - Tilburg University\n",
      "Stand van zaken op 2020-10-15:\n",
      "Aantal ORCID registraties: 605\n",
      "Aantal actieve onderzoekers: 2117\n",
      "De score komt daarmee op 0.2857817666509211.\n",
      "\n",
      "OU - Open Universiteit\n",
      "Stand van zaken op 2020-12-06:\n",
      "Aantal ORCID registraties: 92\n",
      "Aantal actieve onderzoekers: 413\n",
      "De score komt daarmee op 0.22276029055690072.\n",
      "\n",
      "RUG - Rijksuniversiteit Groningen\n",
      "Stand van zaken op 2020-10-13:\n",
      "Aantal ORCID registraties: 1352\n",
      "Aantal actieve onderzoekers: 2995\n",
      "De score komt daarmee op 0.45141903171953257.\n",
      "\n"
     ]
    }
   ],
   "source": [
    "ambitionist_scores = dict()\n",
    "\n",
    "for o in organisations:\n",
    "    data_inst = data[ data['Selecteer je Universiteit'] == o ]   \n",
    "    \n",
    "    # Meest recente datum\n",
    "    dateMax = data_inst['Datum van meting'].max()\n",
    "    mostRecent = data_inst[ data_inst['Datum van meting'] == dateMax ].squeeze()\n",
    "    score = mostRecent['Aantal ORCiD registraties in het CRIS van Onderzoekers'] / mostRecent['Aantal onderzoekers']\n",
    "    ambitionist_scores[o] = score\n",
    "    print( f'{o}\\nStand van zaken op {dateMax}:') \n",
    "    print( f\"Aantal ORCID registraties: {mostRecent['Aantal ORCiD registraties in het CRIS van Onderzoekers']}\\nAantal actieve onderzoekers: {mostRecent['Aantal onderzoekers']}\" )\n",
    "    print( f'De score komt daarmee op {score}.\\n')"
   ]
  },
  {
   "cell_type": "markdown",
   "metadata": {},
   "source": [
    "De hoogste score is behaald door de **Universiteit Leiden**. Van de 2654 onderzoekers hebben uiteindelijk 2273 een ORCID ingevoerd in het CRIS. Het uptake-percentage is daarmee 85.6 %.\n",
    "\n",
    "De volledige lijst van de behaalde scores is hieronder te bekijken."
   ]
  },
  {
   "cell_type": "code",
   "execution_count": 3,
   "metadata": {},
   "outputs": [
    {
     "name": "stdout",
     "output_type": "stream",
     "text": [
      "UL - Universiteit Leiden: 0.8564431047475509 \n",
      "WUR - Wageningen University & Research: 0.5154690618762475 \n",
      "VU - Vrije Universiteit Amsterdam: 0.4713896457765668 \n",
      "RUG - Rijksuniversiteit Groningen: 0.45141903171953257 \n",
      "TUD - Delft University of Technology: 0.42160698164309357 \n",
      "TUE - Technische Universiteit Eindhoven: 0.3907208588957055 \n",
      "TiU - Tilburg University: 0.2857817666509211 \n",
      "UM - Universiteit Maastricht: 0.23479923518164436 \n",
      "OU - Open Universiteit: 0.22276029055690072 \n",
      "UT - University of Twente: 0.183585313174946 \n",
      "TU - Tilburg University: 0.15461465271170313 \n",
      "KNAW - Koninklijke Nederlandse Academie der Wetenschappen: 0.1352112676056338 \n",
      "UvA - Universiteit van Amsterdam: 0.06433990895295903 \n",
      "UU - Universiteit Utrecht: 0.050029429075927015 \n"
     ]
    }
   ],
   "source": [
    "for ub in reversed( sortedByValue( ambitionist_scores) ):\n",
    "    print( f'{ub}: { ambitionist_scores[ub]  } ' )"
   ]
  },
  {
   "cell_type": "code",
   "execution_count": 4,
   "metadata": {},
   "outputs": [
    {
     "data": {
      "image/png": "[encoded data removed]",
      "text/plain": [
       "<Figure size 864x432 with 1 Axes>"
      ]
     },
     "metadata": {
      "needs_background": "light"
     },
     "output_type": "display_data"
    }
   ],
   "source": [
    "%matplotlib inline\n",
    "\n",
    "import matplotlib.pyplot as plt\n",
    "\n",
    "x_labels = []\n",
    "for x in ambitionist_scores.keys():\n",
    "    x_labels.append( x[ 0 : x.index('-')] )\n",
    "\n",
    "fig = plt.figure( figsize=(12,6) )\n",
    "ax = plt.axes()\n",
    "\n",
    "ax.bar( x_labels , ambitionist_scores.values() , color = '#4343a3')\n",
    "\n",
    "plt.xticks(rotation= 90)\n",
    "\n",
    "ax.set_xlabel('Universiteiten' , fontsize= 12)\n",
    "ax.set_ylabel('Score' , fontsize = 12 )\n",
    "ax.set_title( 'Ambitionist' , fontsize=28 )\n",
    "\n",
    "plt.show()\n"
   ]
  },
  {
   "cell_type": "markdown",
   "metadata": {},
   "source": [
    "# Connector\n",
    "\n",
    "\n",
    "De 'Connector' is de prijs voor het grootste percentage koppelingen tussen het CRIS van een universiteit en de ORCID database. Wanneer dit soort koppelingen tot stand zijn gebracht kunnen er gegevens worden geëxporteerd vanuit het CRIS naar de ORCID-records van onderzoekers, en in sommige gevallen ook vice versa. Onderzoekers moeten deze koppelingen zelf activeren. Bibliotheken kunnen dit niet doen namens hn onderzoekers. Wanneer er in ORCID-campagnes ook acties zijn uitgevoerd om onderzoekers te bewegen om deze koppeingen tot stand te brengen, naast alleen het registreren van de ORCIDs, dan verdient dit een extra beloning. Met een actieve ORCiD-koppeling kunnen onderzoekers uiteindelijk ook veel meer. Via dit soort koppelingen kan uiteindelijk de meerwaarde van ORCID worden aangetoond. \n",
    "\n",
    "De scores voor deze prijs zijn berekend door het aantal koppelingen in de meest recente meting te delen door het aantal ORCID ids in het CRIS systeem. \n",
    "\n"
   ]
  },
  {
   "cell_type": "code",
   "execution_count": 5,
   "metadata": {},
   "outputs": [
    {
     "name": "stdout",
     "output_type": "stream",
     "text": [
      "VU - Vrije Universiteit Amsterdam\n",
      "Stand van zaken op 2020-10-15:\n",
      "Aantal ORCiD Export Koppelingen in CRIS: 1206\n",
      "Aantal onderzoekers: 2936\n",
      "De score komt daarmee op 0.8713872832369942.\n",
      "\n",
      "TUD - Delft University of Technology\n",
      "Stand van zaken op 2020-10-06:\n",
      "Aantal ORCiD Export Koppelingen in CRIS: 636\n",
      "Aantal onderzoekers: 6646\n",
      "De score komt daarmee op 0.22698072805139186.\n",
      "\n",
      "WUR - Wageningen University & Research\n",
      "Stand van zaken op 2020-10-13:\n",
      "Aantal ORCiD Export Koppelingen in CRIS: 115\n",
      "Aantal onderzoekers: 2004\n",
      "De score komt daarmee op 0.11132623426911907.\n",
      "\n",
      "UM - Universiteit Maastricht\n",
      "Stand van zaken op 2020-10-14:\n",
      "Aantal ORCiD Export Koppelingen in CRIS: 343\n",
      "Aantal onderzoekers: 5230\n",
      "De score komt daarmee op 0.27931596091205213.\n",
      "\n",
      "UT - University of Twente\n",
      "Stand van zaken op 2020-10-12:\n",
      "Aantal ORCiD Export Koppelingen in CRIS: 147\n",
      "Aantal onderzoekers: 3241\n",
      "De score komt daarmee op 0.24705882352941178.\n",
      "\n",
      "UvA - Universiteit van Amsterdam\n",
      "Stand van zaken op 2020-10-15:\n",
      "Aantal ORCiD Export Koppelingen in CRIS: 320\n",
      "Aantal onderzoekers: 6590\n",
      "De score komt daarmee op 0.7547169811320755.\n",
      "\n",
      "KNAW - Koninklijke Nederlandse Academie der Wetenschappen\n",
      "Stand van zaken op 2020-06-23:\n",
      "Aantal ORCiD Export Koppelingen in CRIS: 22\n",
      "Aantal onderzoekers: 1065\n",
      "De score komt daarmee op 0.1527777777777778.\n",
      "\n",
      "UL - Universiteit Leiden\n",
      "Stand van zaken op 2020-09-01:\n",
      "Aantal ORCiD Export Koppelingen in CRIS: 1473\n",
      "Aantal onderzoekers: 2654\n",
      "De score komt daarmee op 0.6480422349318082.\n",
      "\n",
      "UU - Universiteit Utrecht\n",
      "Stand van zaken op 2020-10-14:\n",
      "Aantal ORCiD Export Koppelingen in CRIS: 195\n",
      "Aantal onderzoekers: 6796\n",
      "De score komt daarmee op 0.5735294117647058.\n",
      "\n",
      "TUE - Technische Universiteit Eindhoven\n",
      "Stand van zaken op 2020-10-15:\n",
      "Aantal ORCiD Export Koppelingen in CRIS: 239\n",
      "Aantal onderzoekers: 2608\n",
      "De score komt daarmee op 0.23454367026496564.\n",
      "\n",
      "TiU - Tilburg University\n",
      "Stand van zaken op 2020-10-15:\n",
      "Aantal ORCiD Export Koppelingen in CRIS: 445\n",
      "Aantal onderzoekers: 2117\n",
      "De score komt daarmee op 0.7355371900826446.\n",
      "\n",
      "OU - Open Universiteit\n",
      "Stand van zaken op 2020-12-06:\n",
      "Aantal ORCiD Export Koppelingen in CRIS: 20\n",
      "Aantal onderzoekers: 413\n",
      "De score komt daarmee op 0.21739130434782608.\n",
      "\n",
      "RUG - Rijksuniversiteit Groningen\n",
      "Stand van zaken op 2020-10-13:\n",
      "Aantal ORCiD Export Koppelingen in CRIS: 467\n",
      "Aantal onderzoekers: 2995\n",
      "De score komt daarmee op 0.34541420118343197.\n",
      "\n"
     ]
    }
   ],
   "source": [
    "connector_scores = dict()\n",
    "\n",
    "\n",
    "for o in organisations:\n",
    "    data_inst = data[ data['Selecteer je Universiteit'] == o ]  \n",
    "    \n",
    "    ## Meest recente meting\n",
    "    dateMax = data_inst['Datum van meting'].max()\n",
    "    mostRecent = data_inst[ data_inst['Datum van meting'] == dateMax ].squeeze()\n",
    "    \n",
    "    score = mostRecent['Aantal ORCiD Export Koppelingen in het CRIS van Onderzoekers'] / mostRecent['Aantal ORCiD registraties in het CRIS van Onderzoekers']\n",
    "    \n",
    "    ## Incorrecte resultaten (bijv delingen door 0) worden genegeerd\n",
    "    if( not( pd.isnull(score) ) ):\n",
    "        connector_scores[o] = float(score)\n",
    "\n",
    "        print( f'{o}\\nStand van zaken op {dateMax}:') \n",
    "        print( f\"Aantal ORCiD Export Koppelingen in CRIS: { int(mostRecent['Aantal ORCiD Export Koppelingen in het CRIS van Onderzoekers']) }\\nAantal onderzoekers: {mostRecent['Aantal onderzoekers']}\" )\n",
    "        print( f'De score komt daarmee op {score}.\\n')\n",
    "    \n",
    "        "
   ]
  },
  {
   "cell_type": "markdown",
   "metadata": {},
   "source": [
    "Wanneer we de universiteiten rangschikken aan de hand van deze scores staat de UL wederom bovenaan. Omdat universiteiten maar een prijs in één categorie kunnen winnen, gaat de trofee in dit geval naar nummer twee van de lijst, en dat is de **Vrije Universiteit Amsterdam**. Op het laatste peilmoment, 15 oktober 2020, hadden 1206 van de 2036 onderoekers een koppeling tot stand gebracht met de ORCID-database. Dit komt neer op 41% van alle actieve onderzoekers. "
   ]
  },
  {
   "cell_type": "code",
   "execution_count": 6,
   "metadata": {},
   "outputs": [
    {
     "name": "stdout",
     "output_type": "stream",
     "text": [
      "VU - Vrije Universiteit Amsterdam: 0.8713872832369942 \n",
      "UvA - Universiteit van Amsterdam: 0.7547169811320755 \n",
      "TiU - Tilburg University: 0.7355371900826446 \n",
      "UL - Universiteit Leiden: 0.6480422349318082 \n",
      "UU - Universiteit Utrecht: 0.5735294117647058 \n",
      "RUG - Rijksuniversiteit Groningen: 0.34541420118343197 \n",
      "UM - Universiteit Maastricht: 0.27931596091205213 \n",
      "UT - University of Twente: 0.24705882352941178 \n",
      "TUE - Technische Universiteit Eindhoven: 0.23454367026496564 \n",
      "TUD - Delft University of Technology: 0.22698072805139186 \n",
      "OU - Open Universiteit: 0.21739130434782608 \n",
      "KNAW - Koninklijke Nederlandse Academie der Wetenschappen: 0.1527777777777778 \n",
      "WUR - Wageningen University & Research: 0.11132623426911907 \n"
     ]
    }
   ],
   "source": [
    "def sortedByValue( dict ):      \n",
    "    return sorted( dict , key=lambda x: dict[x]) \n",
    "\n",
    "for ub in reversed( sortedByValue(connector_scores) ):\n",
    "    print( f'{ub}: { connector_scores[ub]  } ' )\n",
    "    "
   ]
  },
  {
   "cell_type": "code",
   "execution_count": 7,
   "metadata": {},
   "outputs": [
    {
     "data": {
      "image/png": "[encoded data removed]",
      "text/plain": [
       "<Figure size 864x432 with 1 Axes>"
      ]
     },
     "metadata": {
      "needs_background": "light"
     },
     "output_type": "display_data"
    }
   ],
   "source": [
    "\n",
    "\n",
    "fig = plt.figure( figsize=(12,6) )\n",
    "ax = plt.axes()\n",
    "\n",
    "x_labels = []\n",
    "for x in connector_scores.keys():\n",
    "    x_labels.append( x[ 0 : x.index('-')] )\n",
    "\n",
    "ax.bar(  x_labels , connector_scores.values() , color = '#176e08')\n",
    "\n",
    "plt.xticks(rotation= 90)\n",
    "\n",
    "ax.set_xlabel('Universiteiten' , fontsize= 12)\n",
    "ax.set_ylabel('Score' , fontsize = 12 )\n",
    "ax.set_title( 'Connector' , fontsize=28 )\n",
    "\n",
    "plt.show()"
   ]
  },
  {
   "cell_type": "markdown",
   "metadata": {},
   "source": [
    "## Bloomer\n",
    "\n",
    "De 'bloomer' beloont de universiteit waar de sterkste groei is geweest vanaf de startpositie. Welke uptake percentage had de universiteit aan het begin van de ORCID-campage, en welk percentage is er *uiteindelijk* bereikt? Welke universiteit heeft de meeste progressie laten zien?\n",
    "\n",
    "De scores in deze categorie zijn berekend door, kijkend naar alle metingen, het laagste aantal ORCIDs en het hoogste aantal ORCIDs te bepalen. Hierbij is er vanuit gegaan dat er alleen maar een groei kan zijn, en dat het laagste aantal ORCIDs inderdaad ook de uitgangspositie is. Beide aantallen zijn gedeeld door het aantal onderoekers, zoals geregistreerd op die tijdstippen. De uiteindelijke score is het verschil tussen deze twee uptake-percentages.  "
   ]
  },
  {
   "cell_type": "code",
   "execution_count": 8,
   "metadata": {},
   "outputs": [
    {
     "name": "stdout",
     "output_type": "stream",
     "text": [
      "VU - Vrije Universiteit Amsterdam\n",
      "Uptake-percentage bij begin campagne: 0.20725009154155988\n",
      "Uptake-percentage bij eind campagne: 0.4713896457765668\n",
      "Dit is een groei van 26.41395542350069 procent.\n",
      "\n",
      "TU - Tilburg University\n",
      "Uptake-percentage bij begin campagne: 0.15461465271170313\n",
      "Uptake-percentage bij eind campagne: 0.25\n",
      "Dit is een groei van 9.538534728829687 procent.\n",
      "\n",
      "TUD - Delft University of Technology\n",
      "Uptake-percentage bij begin campagne: 0.06277695716395865\n",
      "Uptake-percentage bij eind campagne: 0.43913109066224165\n",
      "Dit is een groei van 37.6354133498283 procent.\n",
      "\n",
      "WUR - Wageningen University & Research\n",
      "Uptake-percentage bij begin campagne: 0.04723991507430998\n",
      "Uptake-percentage bij eind campagne: 0.5154690618762475\n",
      "Dit is een groei van 46.822914680193755 procent.\n",
      "\n",
      "UM - Universiteit Maastricht\n",
      "Uptake-percentage bij begin campagne: 0.04534448602245213\n",
      "Uptake-percentage bij eind campagne: 0.2364229514488582\n",
      "Dit is een groei van 19.107846542640605 procent.\n",
      "\n",
      "UT - University of Twente\n",
      "Uptake-percentage bij begin campagne: 0.15721231766612642\n",
      "Uptake-percentage bij eind campagne: 0.183585313174946\n",
      "Dit is een groei van 2.637299550881958 procent.\n",
      "\n",
      "UvA - Universiteit van Amsterdam\n",
      "Uptake-percentage bij begin campagne: 0.030498976182778317\n",
      "Uptake-percentage bij eind campagne: 0.06433990895295903\n",
      "Dit is een groei van 3.3840932770180716 procent.\n",
      "\n",
      "KNAW - Koninklijke Nederlandse Academie der Wetenschappen\n",
      "Uptake-percentage bij begin campagne: 0.09719626168224299\n",
      "Uptake-percentage bij eind campagne: 0.1352112676056338\n",
      "Dit is een groei van 3.80150059233908 procent.\n",
      "\n",
      "UL - Universiteit Leiden\n",
      "Uptake-percentage bij begin campagne: 0.8168801808590807\n",
      "Uptake-percentage bij eind campagne: 0.849870896348211\n",
      "Dit is een groei van 3.299071548913035 procent.\n",
      "\n",
      "UU - Universiteit Utrecht\n",
      "Uptake-percentage bij begin campagne: 0.03176816984348365\n",
      "Uptake-percentage bij eind campagne: 0.050029429075927015\n",
      "Dit is een groei van 1.8261259232443365 procent.\n",
      "\n",
      "TUE - Technische Universiteit Eindhoven\n",
      "Uptake-percentage bij begin campagne: 0.20713938805245263\n",
      "Uptake-percentage bij eind campagne: 0.2577937649880096\n",
      "Dit is een groei van 5.065437693555697 procent.\n",
      "\n",
      "TiU - Tilburg University\n",
      "Uptake-percentage bij begin campagne: 0.11336946702800361\n",
      "Uptake-percentage bij eind campagne: 0.2857817666509211\n",
      "Dit is een groei van 17.241229962291747 procent.\n",
      "\n",
      "OU - Open Universiteit\n",
      "Uptake-percentage bij begin campagne: 0.15833333333333333\n",
      "Uptake-percentage bij eind campagne: 0.47877358490566035\n",
      "Dit is een groei van 32.0440251572327 procent.\n",
      "\n",
      "RUG - Rijksuniversiteit Groningen\n",
      "Uptake-percentage bij begin campagne: 0.27327070879590093\n",
      "Uptake-percentage bij eind campagne: 0.3483831604636974\n",
      "Dit is een groei van 7.511245166779645 procent.\n",
      "\n"
     ]
    }
   ],
   "source": [
    "bloomer_scores = dict()\n",
    "\n",
    "for o in organisations:\n",
    "    \n",
    "    ## Uitgangspositie van 0 wordt verwijderd\n",
    "    data_inst = data[ data['Selecteer je Universiteit'] == o ] \n",
    "    \n",
    "    data_inst = data_inst[ data_inst['Aantal ORCiD registraties in het CRIS van Onderzoekers'] > 0 ] \n",
    "    sorted_df = data_inst.sort_values(by=['Aantal ORCiD registraties in het CRIS van Onderzoekers'], ascending=False)\n",
    "    \n",
    "    highest = sorted_df.iloc[0]\n",
    "    lowest = sorted_df.iloc[-1]\n",
    "  \n",
    "    lowest_perc = lowest['Aantal ORCiD registraties in het CRIS van Onderzoekers'] / lowest['Aantal onderzoekers']\n",
    "    highest_perc = highest['Aantal ORCiD registraties in het CRIS van Onderzoekers'] / highest['Aantal onderzoekers']\n",
    "    \n",
    "    bloomer_scores[o] = ( highest_perc - lowest_perc ) \n",
    "    \n",
    "    print( f'{o}' )\n",
    "    print( f'Uptake-percentage bij begin campagne: {lowest_perc}' )\n",
    "    print( f'Uptake-percentage bij eind campagne: {highest_perc}' )\n",
    "    print( f'Dit is een groei van { bloomer_scores[o] * 100 } procent.\\n' )\n",
    "    \n",
    "    \n",
    "\n",
    "    \n",
    "    "
   ]
  },
  {
   "cell_type": "markdown",
   "metadata": {},
   "source": [
    "Wanneer de score worden gerangschikt wordt duidelijk dat **Wageningen University & Research** de grootse groei heeft doorgemaakt. Het uptake-percentage was 4.7% bij de start van de campagne. In oktober 2020 was er een uptake-percentage van 51.5%. Dit komt neer op een groei van 46.8%. \n",
    "\n",
    "Opvallend is overigens wel dat er bij het UMC-U een afname lijkt te zijn, aar dit is waarschijnlijk een foutieve invoer. "
   ]
  },
  {
   "cell_type": "code",
   "execution_count": 9,
   "metadata": {},
   "outputs": [
    {
     "name": "stdout",
     "output_type": "stream",
     "text": [
      "WUR - Wageningen University & Research: 0.468\n",
      "TUD - Delft University of Technology: 0.376\n",
      "OU - Open Universiteit: 0.32\n",
      "VU - Vrije Universiteit Amsterdam: 0.264\n",
      "UM - Universiteit Maastricht: 0.191\n",
      "TiU - Tilburg University: 0.172\n",
      "TU - Tilburg University: 0.095\n",
      "RUG - Rijksuniversiteit Groningen: 0.075\n",
      "TUE - Technische Universiteit Eindhoven: 0.051\n",
      "KNAW - Koninklijke Nederlandse Academie der Wetenschappen: 0.038\n",
      "UvA - Universiteit van Amsterdam: 0.034\n",
      "UL - Universiteit Leiden: 0.033\n",
      "UT - University of Twente: 0.026\n",
      "UU - Universiteit Utrecht: 0.018\n"
     ]
    }
   ],
   "source": [
    "for ub in reversed( sortedByValue(bloomer_scores) ):\n",
    "    print( f'{ub}: { round( bloomer_scores[ub] , 3 ) }' )\n",
    "    "
   ]
  },
  {
   "cell_type": "code",
   "execution_count": 10,
   "metadata": {},
   "outputs": [
    {
     "data": {
      "image/png": "[encoded data removed]",
      "text/plain": [
       "<Figure size 864x432 with 1 Axes>"
      ]
     },
     "metadata": {
      "needs_background": "light"
     },
     "output_type": "display_data"
    }
   ],
   "source": [
    "fig = plt.figure( figsize=(12,6) )\n",
    "ax = plt.axes()\n",
    "\n",
    "x_labels = []\n",
    "for x in bloomer_scores.keys():\n",
    "    x_labels.append( x[ 0 : x.index('-')] )\n",
    "\n",
    "ax.bar( x_labels , bloomer_scores.values() , color = '#6e1208')\n",
    "\n",
    "plt.xticks(rotation= 90)\n",
    "\n",
    "ax.set_xlabel('Universiteiten' , fontsize= 12)\n",
    "ax.set_ylabel('Score' , fontsize = 12 )\n",
    "ax.set_title( 'Bloomer' , fontsize=28 )\n",
    "\n",
    "plt.show()"
   ]
  },
  {
   "cell_type": "markdown",
   "metadata": {},
   "source": [
    "# Pioneer\n",
    "\n",
    "De toename in het aantal ORCIDs kan worden gevolgd door te kijken naa het aantal ORCIDs dat is ingevuld in het CRIS te delen door het totaal aantal actieve onderzoekers. Dit laatste getal kan bijvoorbeeld worden vastgesteld op basis van de gegevens van de P&O afdeling van de universiteit. Dit cijfer zegt niet noodzakelijk iets over het daadwerkelijke aantal ORCIDs. Er zijn namelijk ook onderzoekers die wel al een ORCID hebben, maar deze nog niet hebben geregistreerd in het CRIS. Sommige universiteiten hebben ook geprobeerd om deze groep in kaart te brengen, door direct in de ORCID database te zoeken via de ORCIS 'Name Search' API. De onderzoekers in deze laatste groep konden dan binnen de campagne een meer gericht verzoek krijgen om hun bestaande ORCID te registreren. \n",
    "\n",
    "De 'Pioneer' trofee gaat naar de instelling die de meeste onderzoekers heeft opgespoord in de ORCID-database. De scores zijn berekend door het aantal bij ORCID gevonden onderzoekers te delen door het totaal aantal onderzoekers (zoals vastgelegd in het eigen P&O systeem of in LUCRIS).\n",
    "\n",
    "Niet alle universiteiten hebben deze cijfers verzameld. De universiteiten die geen cijfers hebben aangeleverd over het aantal onderzoekers in de ORCID-database zijn uiteraard buiten beschouwing gelaten. \n",
    "\n",
    "De scores staan hieronder:"
   ]
  },
  {
   "cell_type": "code",
   "execution_count": 11,
   "metadata": {},
   "outputs": [
    {
     "name": "stdout",
     "output_type": "stream",
     "text": [
      "TUD - Delft University of Technology:\n",
      "Stand van zaken op 2020-10-06:\n",
      "Aantal onderzoekers: 6646\n",
      "Aantal ondezoekers in ORCID database: 3885.0\n",
      "Score: 0.5845621426421908\n",
      "\n",
      "UvA - Universiteit van Amsterdam:\n",
      "Stand van zaken op 2020-10-15:\n",
      "Aantal onderzoekers: 6590\n",
      "Aantal ondezoekers in ORCID database: 3834.0\n",
      "Score: 0.5817905918057663\n",
      "\n",
      "UL - Universiteit Leiden:\n",
      "Stand van zaken op 2020-09-01:\n",
      "Aantal onderzoekers: 2654\n",
      "Aantal ondezoekers in ORCID database: 2386.0\n",
      "Score: 0.8990203466465713\n",
      "\n",
      "UU - Universiteit Utrecht:\n",
      "Stand van zaken op 2020-10-14:\n",
      "Aantal onderzoekers: 6796\n",
      "Aantal ondezoekers in ORCID database: 3387.0\n",
      "Score: 0.4983814008240141\n",
      "\n",
      "OU - Open Universiteit:\n",
      "Stand van zaken op 2020-12-06:\n",
      "Aantal onderzoekers: 413\n",
      "Aantal ondezoekers in ORCID database: 207.0\n",
      "Score: 0.5012106537530266\n",
      "\n"
     ]
    }
   ],
   "source": [
    "pioneer_scores = dict()\n",
    "\n",
    "\n",
    "for o in organisations:\n",
    "    data_inst = data[ data['Selecteer je Universiteit'] == o ]  \n",
    "    \n",
    "    ## Meest recente meting\n",
    "    dateMax = data_inst['Datum van meting'].max()\n",
    "    mostRecent = data_inst[ data_inst['Datum van meting'] == dateMax ].squeeze()\n",
    "    if( not( pd.isnull(mostRecent['Aantal Onderzoekers in de ORCiD database']) ) ) and mostRecent['Aantal Onderzoekers in de ORCiD database'] > 0:\n",
    "        score = mostRecent['Aantal Onderzoekers in de ORCiD database'] / mostRecent['Aantal onderzoekers'] \n",
    "        pioneer_scores[o] = score\n",
    "        \n",
    "        print(f'{o}:')\n",
    "        print(f\"Stand van zaken op { mostRecent['Datum van meting']}:\")\n",
    "        print(f\"Aantal onderzoekers: { mostRecent['Aantal onderzoekers']}\")\n",
    "        print(f\"Aantal ondezoekers in ORCID database: { mostRecent['Aantal Onderzoekers in de ORCiD database']}\")\n",
    "        print(f\"Score: { score }\\n\")\n",
    "\n",
    "    "
   ]
  },
  {
   "cell_type": "markdown",
   "metadata": {},
   "source": [
    "De Universiteit Leiden heeft al een prijs ontvangen in de categorie 'Ambitionist'. De trofee gaat daarom naar de tweede universiteit op de lijst, **Delft University of Technology**. 3885 van 6646 Delftse onderzoekers zijn getraceerd in de ORCID-database. Dat is een percentage van 58%. "
   ]
  },
  {
   "cell_type": "code",
   "execution_count": 12,
   "metadata": {},
   "outputs": [
    {
     "name": "stdout",
     "output_type": "stream",
     "text": [
      "UL - Universiteit Leiden: 0.899\n",
      "TUD - Delft University of Technology: 0.585\n",
      "UvA - Universiteit van Amsterdam: 0.582\n",
      "OU - Open Universiteit: 0.501\n",
      "UU - Universiteit Utrecht: 0.498\n"
     ]
    }
   ],
   "source": [
    "for ub in reversed( sortedByValue(pioneer_scores) ):\n",
    "\n",
    "    print( f'{ub}: { round( pioneer_scores[ub] , 3 ) }' )"
   ]
  },
  {
   "cell_type": "code",
   "execution_count": 13,
   "metadata": {},
   "outputs": [
    {
     "data": {
      "image/png": "[encoded data removed]",
      "text/plain": [
       "<Figure size 864x432 with 1 Axes>"
      ]
     },
     "metadata": {
      "needs_background": "light"
     },
     "output_type": "display_data"
    }
   ],
   "source": [
    "fig = plt.figure( figsize=(12,6) )\n",
    "ax = plt.axes()\n",
    "\n",
    "x_labels = []\n",
    "for x in pioneer_scores.keys():\n",
    "    x_labels.append( x[ 0 : x.index('-')] )\n",
    "\n",
    "ax.bar( x_labels , pioneer_scores.values() , color = '#6916a8')\n",
    "\n",
    "plt.xticks(rotation= 90)\n",
    "\n",
    "ax.set_xlabel('Universiteiten' , fontsize= 12)\n",
    "ax.set_ylabel('Score' , fontsize = 12 )\n",
    "ax.set_title( 'Pioneer' , fontsize=28 )\n",
    "\n",
    "plt.show()"
   ]
  },
  {
   "cell_type": "markdown",
   "metadata": {},
   "source": [
    "## Story Teller\n",
    "\n",
    "Deze prijs wordt toegekend aan het campagneteam dat echt in gesprek is gegaan met onderzoekers. In sommige gevallen hebben campagneteams echt een persoonlijke band of een bijzondere relatie opgebouwd met onderzoekers. Tijdens dit soort persoonlijke interacties met odnerzoekers onstaan vaak bijzondere verhalen en mooie anekdotes. Deze trofe wordt dan ook toegekend aan de universiteit die de meest grappige, sappige, ontroerendste ORCiD-wervingsverhalen wist te vertellen. De prijswinnaar wordt niet op kwantitieve gronden bepaald, maar is gekozen door een onafhankelijke jury die alle ingezonden verhaen op een kwalitatieve basis heeft beoordeeld. \n",
    "\n",
    "Hieronder het\n",
    "\n",
    "We hebben genoten van de enthousiaste en originele acties van de verschillende campagnes binnen de instellingen. Zo werd het ons eens te meer duidelijk dat ORCiD een belangrijk element kan zijn in het ontzorgen van onderzoekers op administratief vlak. Van studenten die op pad gestuurd werden als ORCiD promoters en ondersteuners, maar ook dienden als welkome uitlaatklep voor administratief overladen onderzoekers tot constructieve gesprekken tussen onderzoekers en onderzoeksondersteuners. De verhalen gaven een prachtig inkijkje in de campagne keukens. Van de inzendingen sprong die van de UU eruit met betrekkking tot de combinatie van functionaliteit en creativiteit.\n",
    "Door workhsops over zichtbaarheid te koppelen aan een ORCiD loterij combineerde de UU het nuttige met humoristische. Kudo’s voor het enthousiasme en de uitvoer en bij deze dan ook de winnaar van de Story prijs…\n"
   ]
  },
  {
   "cell_type": "markdown",
   "metadata": {},
   "source": [
    "\n",
    "## Rode lantaarn\n",
    "\n",
    "Dit is een aanmoedigingsprijs, waarmee we de universiteit met de laagste scores binnen de verschillende categorieën willen aanmoedigen om hun campagne meer kracht bij te zetten. \n",
    "\n",
    "De scores in deze categorie zijn berekend door de scores in de ambitionist, de connector, de pioneer en de bloomer bi elkaar op te tellen. De prijs gaat naar de universiteit met de laagste score in al deze categorieën."
   ]
  },
  {
   "cell_type": "code",
   "execution_count": 14,
   "metadata": {},
   "outputs": [
    {
     "name": "stdout",
     "output_type": "stream",
     "text": [
      "VU - Vrije Universiteit Amsterdam\n",
      "Score: 1.6069164832485678\n",
      "\n",
      "TU - Tilburg University\n",
      "Score: 0.25\n",
      "\n",
      "TUD - Delft University of Technology\n",
      "Score: 1.6095039858349591\n",
      "\n",
      "WUR - Wageningen University & Research\n",
      "Score: 1.0950244429473042\n",
      "\n",
      "UM - Universiteit Maastricht\n",
      "Score: 0.7051936615201025\n",
      "\n",
      "UT - University of Twente\n",
      "Score: 0.45701713221317736\n",
      "\n",
      "UvA - Universiteit van Amsterdam\n",
      "Score: 1.4346884146609815\n",
      "\n",
      "KNAW - Koninklijke Nederlandse Academie der Wetenschappen\n",
      "Score: 0.3260040513068024\n",
      "\n",
      "UL - Universiteit Leiden\n",
      "Score: 2.4364964018150608\n",
      "\n",
      "UU - Universiteit Utrecht\n",
      "Score: 1.1402015008970903\n",
      "\n",
      "TUE - Technische Universiteit Eindhoven\n",
      "Score: 0.6759189060962281\n",
      "\n",
      "TiU - Tilburg University\n",
      "Score: 1.1937312563564833\n",
      "\n",
      "OU - Open Universiteit\n",
      "Score: 1.2618025002300803\n",
      "\n",
      "RUG - Rijksuniversiteit Groningen\n",
      "Score: 0.8719456845707609\n",
      "\n"
     ]
    }
   ],
   "source": [
    "## Berekening rode lantaarn\n",
    "\n",
    "red_lantern = dict()\n",
    "\n",
    "for ub in organisations:\n",
    "    \n",
    "    a = ambitionist_scores.get( ub , 0 )\n",
    "    c = connector_scores.get( ub , 0 )\n",
    "    b = bloomer_scores.get( ub , 0 )\n",
    "    p = pioneer_scores.get( ub , 0 )\n",
    "    totaal = a+b+c+p    \n",
    "    red_lantern[ub] = totaal\n",
    "    \n",
    "    print( f'{ub}\\nScore: {red_lantern[ub]}\\n' )\n",
    "\n"
   ]
  },
  {
   "cell_type": "markdown",
   "metadata": {},
   "source": [
    "**Tilburg University** heeft het laagste gescoord. "
   ]
  },
  {
   "cell_type": "code",
   "execution_count": 15,
   "metadata": {},
   "outputs": [
    {
     "name": "stdout",
     "output_type": "stream",
     "text": [
      "TU - Tilburg University 0.25 \n",
      "KNAW - Koninklijke Nederlandse Academie der Wetenschappen 0.3260040513068024 \n",
      "UT - University of Twente 0.45701713221317736 \n",
      "TUE - Technische Universiteit Eindhoven 0.6759189060962281 \n",
      "UM - Universiteit Maastricht 0.7051936615201025 \n",
      "RUG - Rijksuniversiteit Groningen 0.8719456845707609 \n",
      "WUR - Wageningen University & Research 1.0950244429473042 \n",
      "UU - Universiteit Utrecht 1.1402015008970903 \n",
      "TiU - Tilburg University 1.1937312563564833 \n",
      "OU - Open Universiteit 1.2618025002300803 \n",
      "UvA - Universiteit van Amsterdam 1.4346884146609815 \n",
      "VU - Vrije Universiteit Amsterdam 1.6069164832485678 \n",
      "TUD - Delft University of Technology 1.6095039858349591 \n",
      "UL - Universiteit Leiden 2.4364964018150608 \n"
     ]
    }
   ],
   "source": [
    "for ub in sortedByValue(red_lantern):\n",
    "    print( f'{ub} {red_lantern[ub]} ')\n",
    "        "
   ]
  },
  {
   "cell_type": "code",
   "execution_count": 16,
   "metadata": {},
   "outputs": [
    {
     "data": {
      "image/png": "[encoded data removed]",
      "text/plain": [
       "<Figure size 864x432 with 1 Axes>"
      ]
     },
     "metadata": {
      "needs_background": "light"
     },
     "output_type": "display_data"
    }
   ],
   "source": [
    "fig = plt.figure( figsize=(12,6) )\n",
    "ax = plt.axes()\n",
    "\n",
    "x_labels = []\n",
    "for x in red_lantern.keys():\n",
    "    x_labels.append( x[ 0 : x.index('-')] )\n",
    "\n",
    "ax.bar( x_labels , red_lantern.values() , color = '#ad200e')\n",
    "\n",
    "plt.xticks(rotation= 90)\n",
    "\n",
    "ax.set_xlabel('Universiteiten' , fontsize= 12)\n",
    "ax.set_ylabel('Score' , fontsize = 12 )\n",
    "ax.set_title( 'Red Lantern' , fontsize=28 )\n",
    "\n",
    "plt.show()"
   ]
  },
  {
   "cell_type": "code",
   "execution_count": 17,
   "metadata": {},
   "outputs": [
    {
     "name": "stdout",
     "output_type": "stream",
     "text": [
      "Aantal ORCIDs bij de start van de campagne: 6977\n",
      "Totaal aantal onderzoekers: 50776\n",
      "Aantal koppelingen vanuit CRIS naar ORCID: 1540\n",
      "Percentage: 0.137407436584213\n",
      "\n",
      "Aantal ORCIDs na de campagne: 14463\n",
      "Totaal aantal onderzoekers: 50811\n",
      "Aantal koppelingen vanuit CRIS naar ORCID: 4795\n",
      "Percentage: 0.284643089094881\n"
     ]
    }
   ],
   "source": [
    "\n",
    "\n",
    "afterCampaign = 0 \n",
    "beforeCampaign = 0 \n",
    "afterResearchers = 0 \n",
    "beforeResearchers = 0 \n",
    "connectionsBefore = 0 \n",
    "connectionsAfter = 0 \n",
    "\n",
    "for o in organisations:\n",
    "    data_inst = data[ data['Selecteer je Universiteit'] == o ]\n",
    "        \n",
    "    data_inst = data_inst[ data_inst['Aantal ORCiD registraties in het CRIS van Onderzoekers'] > 0 ] \n",
    "    sorted_df = data_inst.sort_values(by=['Aantal ORCiD registraties in het CRIS van Onderzoekers'], ascending=False)\n",
    "    \n",
    "    finalResult = sorted_df.iloc[0] \n",
    "    startPosition = sorted_df.iloc[-1] \n",
    "    \n",
    "    afterCampaign += finalResult['Aantal ORCiD registraties in het CRIS van Onderzoekers']\n",
    "    beforeCampaign += startPosition['Aantal ORCiD registraties in het CRIS van Onderzoekers']\n",
    "    afterResearchers += finalResult['Aantal onderzoekers']\n",
    "    beforeResearchers  += startPosition['Aantal onderzoekers']\n",
    "    \n",
    "    if( not( pd.isnull(finalResult['Aantal ORCiD Export Koppelingen in het CRIS van Onderzoekers']) ) ):\n",
    "        connectionsAfter += finalResult['Aantal ORCiD Export Koppelingen in het CRIS van Onderzoekers']\n",
    "    if( not( pd.isnull(startPosition['Aantal ORCiD Export Koppelingen in het CRIS van Onderzoekers']) ) ):\n",
    "        connectionsBefore += startPosition['Aantal ORCiD Export Koppelingen in het CRIS van Onderzoekers']\n",
    "\n",
    "\n",
    "print ( f'Aantal ORCIDs bij de start van de campagne: { beforeCampaign }')\n",
    "print ( f'Totaal aantal onderzoekers: { beforeResearchers }' )\n",
    "print ( f'Aantal koppelingen vanuit CRIS naar ORCID: { int( connectionsBefore) }' )\n",
    "print ( f'Percentage: { beforeCampaign / beforeResearchers }' )\n",
    "\n",
    "print ( f'\\nAantal ORCIDs na de campagne: { afterCampaign}' )\n",
    "print ( f'Totaal aantal onderzoekers: { afterResearchers }' )\n",
    "print ( f'Aantal koppelingen vanuit CRIS naar ORCID: { int( connectionsAfter) }' )\n",
    "print ( f'Percentage: { afterCampaign / afterResearchers }' )\n",
    "\n",
    "    "
   ]
  }
 ],
 "metadata": {
  "kernelspec": {
   "display_name": "Python 3",
   "language": "python",
   "name": "python3"
  },
  "language_info": {
   "codemirror_mode": {
    "name": "ipython",
    "version": 3
   },
   "file_extension": ".py",
   "mimetype": "text/x-python",
   "name": "python",
   "nbconvert_exporter": "python",
   "pygments_lexer": "ipython3",
   "version": "3.7.6"
  }
 },
 "nbformat": 4,
 "nbformat_minor": 4
}
